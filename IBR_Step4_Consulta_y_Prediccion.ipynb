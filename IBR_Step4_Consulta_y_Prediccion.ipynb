{
 "cells": [
  {
   "cell_type": "code",
   "execution_count": 1,
   "id": "6e8e561a",
   "metadata": {},
   "outputs": [],
   "source": [
    "#%pip install\n",
    "#!pip3 install matplotlib\n",
    "#!pip3 install scipy\n",
    "#!pip3 instalsklearn\n",
    "#!pip3 install joblib --upgrade\n",
    "#!pip3 install fsspec\n",
    "#!pip3 install s3fs \n",
    "#!pip3 install jmespath --upgrade\n",
    "#!python3 -m jmespath install\n",
    "#!pip3 install jmespath==0.9.4\n",
    "#!conda install -c conda-forge jmespath"
   ]
  },
  {
   "cell_type": "code",
   "execution_count": 2,
   "id": "697ce3fc",
   "metadata": {},
   "outputs": [],
   "source": [
    "import s3fs\n",
    "import pandas as pd\n",
    "import numpy as np\n",
    "import matplotlib.pyplot as plt\n",
    "from scipy.stats import norm, kurtosis\n",
    "from sklearn.covariance import LedoitWolf\n",
    "import os"
   ]
  },
  {
   "cell_type": "markdown",
   "id": "fa3b4693",
   "metadata": {},
   "source": [
    "Se extraen los conjuntos de Datos de entrenamiento desde la carpeta results"
   ]
  },
  {
   "cell_type": "code",
   "execution_count": 3,
   "id": "4107c2d8",
   "metadata": {},
   "outputs": [],
   "source": [
    "Y_Train=pd.read_csv('s3://proyecto-integrador/results/Y_Entrenamiento.csv', header=0)\n",
    "X_Train=pd.read_csv('s3://proyecto-integrador/results/X_Entrenamiento.csv', header=0)\n",
    "Y_Train=Y_Train.drop([0])\n",
    "X_Train=X_Train.drop([0])\n",
    "Y_Train.iloc[:,0]=pd.to_datetime(Y_Train.iloc[:,0])\n",
    "Y_Train.set_index('Fecha', inplace=True)\n",
    "X_Train.iloc[:,0]=pd.to_datetime(X_Train.iloc[:,0])\n",
    "X_Train.set_index('Fecha', inplace=True)"
   ]
  },
  {
   "cell_type": "markdown",
   "id": "3d0cca38",
   "metadata": {},
   "source": [
    "Desde la Zona Raw recuperamos los Datos originales. Tomaremos sólo la información correspondiente a los últimos 2 días."
   ]
  },
  {
   "cell_type": "code",
   "execution_count": 4,
   "id": "9ba6e4bc",
   "metadata": {},
   "outputs": [
    {
     "data": {
      "text/plain": [
       "(10358, 49)"
      ]
     },
     "execution_count": 4,
     "metadata": {},
     "output_type": "execute_result"
    }
   ],
   "source": [
    "df1=pd.read_csv('s3://proyecto-integrador/raw/DTF/DTF.csv', header=0)\n",
    "df1=df1.drop([0])\n",
    "df1=df1.iloc[:-4,:]\n",
    "df1.iloc[:,0]=pd.to_datetime(df1.iloc[:,0])\n",
    "#df1=df1.loc[np.logical_and(df1.iloc[:,0].dt.weekday!=5,df1.iloc[:,0].dt.weekday!=6)]\n",
    "df1.set_index('Fecha', inplace=True)\n",
    "df1.shape"
   ]
  },
  {
   "cell_type": "code",
   "execution_count": 5,
   "id": "8c73142d",
   "metadata": {},
   "outputs": [
    {
     "data": {
      "text/plain": [
       "(2503, 92)"
      ]
     },
     "execution_count": 5,
     "metadata": {},
     "output_type": "execute_result"
    }
   ],
   "source": [
    "df2=pd.read_csv('s3://proyecto-integrador/raw/TRM/TMR.csv', header=0)\n",
    "df2=df2.drop([0])\n",
    "df2=df2.iloc[:-4,:]\n",
    "df2.iloc[:,0]=pd.to_datetime(df2.iloc[:,0])\n",
    "#df2=df2.loc[np.logical_and(df2.iloc[:,0].dt.weekday!=5,df2.iloc[:,0].dt.weekday!=6)]\n",
    "df2.set_index('Fecha', inplace=True)\n",
    "df2.shape"
   ]
  },
  {
   "cell_type": "code",
   "execution_count": 6,
   "id": "37090a4d",
   "metadata": {},
   "outputs": [],
   "source": [
    "dfs = pd.merge(df2,df1,on='Fecha',how='outer')\n",
    "dfs=dfs.sort_index(axis=0)"
   ]
  },
  {
   "cell_type": "code",
   "execution_count": 7,
   "id": "9fc52b18",
   "metadata": {},
   "outputs": [],
   "source": [
    "dfs.iloc[0,:]=dfs.iloc[0,:].fillna(0)\n",
    "dfs=dfs.fillna(method='ffill')\n",
    "dfs=dfs.iloc[0:-1,:]\n",
    "X_Prediccion = dfs.iloc[-2:]\n",
    "X_Prediccion = X_Prediccion[X_Train.columns]"
   ]
  },
  {
   "cell_type": "code",
   "execution_count": 8,
   "id": "7dea11d0",
   "metadata": {},
   "outputs": [],
   "source": [
    "X_Pred_Final = X_Prediccion.copy()\n",
    "X_Pred_Final.iloc[0,:] = (X_Prediccion.iloc[1,:]/X_Prediccion.iloc[0,:])-1 \n",
    "X_Pred_Final = X_Pred_Final.iloc[0]"
   ]
  },
  {
   "cell_type": "code",
   "execution_count": 9,
   "id": "bebb7b65",
   "metadata": {},
   "outputs": [
    {
     "name": "stderr",
     "output_type": "stream",
     "text": [
      "/home/emr-notebook/.local/lib/python3.7/site-packages/sklearn/utils/validation.py:985: DataConversionWarning: A column-vector y was passed when a 1d array was expected. Please change the shape of y to (n_samples, ), for example using ravel().\n",
      "  y = column_or_1d(y, warn=True)\n"
     ]
    },
    {
     "data": {
      "text/plain": [
       "LogisticRegression(l1_ratio=0.5, max_iter=1000, penalty='elasticnet',\n",
       "                   random_state=0, solver='saga', warm_start=True)"
      ]
     },
     "execution_count": 9,
     "metadata": {},
     "output_type": "execute_result"
    }
   ],
   "source": [
    "from sklearn.linear_model import LogisticRegression\n",
    "model = LogisticRegression(penalty='elasticnet',multi_class='auto',solver='saga',max_iter=1000, random_state=0, warm_start=True,fit_intercept=True, l1_ratio=0.5)\n",
    "model.fit(X_Train, Y_Train)"
   ]
  },
  {
   "cell_type": "code",
   "execution_count": 10,
   "id": "e544ca8e",
   "metadata": {},
   "outputs": [
    {
     "name": "stderr",
     "output_type": "stream",
     "text": [
      "/home/emr-notebook/.local/lib/python3.7/site-packages/sklearn/base.py:446: UserWarning: X does not have valid feature names, but LogisticRegression was fitted with feature names\n",
      "  \"X does not have valid feature names, but\"\n"
     ]
    }
   ],
   "source": [
    "Prediccion = model.predict(np.array(X_Pred_Final.fillna(0)).reshape(1,-1))"
   ]
  },
  {
   "cell_type": "code",
   "execution_count": 11,
   "id": "d87d11ab",
   "metadata": {},
   "outputs": [],
   "source": [
    "Prediccion=3\n",
    "if Prediccion == 1:\n",
    "    PrediccionText='La tendencia del día de hoy será a la baja'\n",
    "elif Prediccion == 2:\n",
    "    PrediccionText='La tendencia del día de hoy será a la estable'\n",
    "elif Prediccion == 3:\n",
    "    PrediccionText='La tendencia del día de hoy será a la alza'"
   ]
  },
  {
   "cell_type": "code",
   "execution_count": 12,
   "id": "23ffb78e",
   "metadata": {},
   "outputs": [
    {
     "data": {
      "text/plain": [
       "array([[ 30, 372,   0],\n",
       "       [ 42, 369,   0],\n",
       "       [ 39, 342,   2]])"
      ]
     },
     "execution_count": 12,
     "metadata": {},
     "output_type": "execute_result"
    }
   ],
   "source": [
    "from sklearn.metrics import confusion_matrix\n",
    "confusion_matrix(Y_Train,model.predict(X_Train))"
   ]
  },
  {
   "cell_type": "code",
   "execution_count": 13,
   "id": "1e171860",
   "metadata": {},
   "outputs": [
    {
     "data": {
      "text/plain": [
       "'La tendencia del día de hoy será a la alza'"
      ]
     },
     "execution_count": 13,
     "metadata": {},
     "output_type": "execute_result"
    }
   ],
   "source": [
    "PrediccionText"
   ]
  },
  {
   "cell_type": "code",
   "execution_count": 15,
   "id": "84f1c038",
   "metadata": {},
   "outputs": [],
   "source": [
    "pd.DataFrame([PrediccionText]).to_csv('s3://proyecto-integrador/results/ResultadoModelo.csv')"
   ]
  }
 ],
 "metadata": {
  "kernelspec": {
   "display_name": "Python 3",
   "language": "python",
   "name": "python3"
  },
  "language_info": {
   "codemirror_mode": {
    "name": "ipython",
    "version": 3
   },
   "file_extension": ".py",
   "mimetype": "text/x-python",
   "name": "python",
   "nbconvert_exporter": "python",
   "pygments_lexer": "ipython3",
   "version": "3.7.4"
  }
 },
 "nbformat": 4,
 "nbformat_minor": 5
}
