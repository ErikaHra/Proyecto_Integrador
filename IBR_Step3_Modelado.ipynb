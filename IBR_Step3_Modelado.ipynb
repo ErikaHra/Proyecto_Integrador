{
 "cells": [
  {
   "cell_type": "code",
   "execution_count": 1,
   "id": "b7eeb35c",
   "metadata": {},
   "outputs": [],
   "source": [
    "#%pip install\n",
    "#!pip3 install matplotlib\n",
    "#!pip3 install scipy\n",
    "#!pip3 instalsklearn\n",
    "#!pip3 install joblib --upgrade\n",
    "#!pip3 install fsspec\n",
    "#!pip3 install s3fs \n",
    "#!pip3 install jmespath --upgrade\n",
    "#!python3 -m jmespath install\n",
    "#!pip3 install jmespath==0.9.4\n",
    "#!conda install -c conda-forge jmespath"
   ]
  },
  {
   "cell_type": "code",
   "execution_count": 2,
   "id": "7c08d4be",
   "metadata": {},
   "outputs": [],
   "source": [
    "import s3fs\n",
    "import pandas as pd\n",
    "import numpy as np\n",
    "import matplotlib.pyplot as plt\n",
    "from scipy.stats import norm, kurtosis\n",
    "from sklearn.covariance import LedoitWolf\n",
    "import os"
   ]
  },
  {
   "cell_type": "code",
   "execution_count": 3,
   "id": "d8939f47",
   "metadata": {},
   "outputs": [],
   "source": [
    "dfFinal=pd.read_csv('s3://proyecto-integrador/trusted/Data_tras_Analisis Exploratorio.csv', header=0)\n",
    "dfFinal=dfFinal.drop([0])\n",
    "dfFinal.iloc[:,0]=pd.to_datetime(dfFinal.iloc[:,0])\n",
    "dfFinal.set_index('Fecha', inplace=True)"
   ]
  },
  {
   "cell_type": "code",
   "execution_count": 4,
   "id": "78e64327",
   "metadata": {},
   "outputs": [],
   "source": [
    "XFinal=dfFinal.drop('Indicador Bancario de Referencia (IBR) overnight nominal',axis=1)\n",
    "YFinal=dfFinal.loc[:,'Indicador Bancario de Referencia (IBR) overnight nominal']"
   ]
  },
  {
   "cell_type": "markdown",
   "id": "09c92ebe",
   "metadata": {},
   "source": [
    "La selección de Variables finales para le modelo se hará por medio del Anaálisi de Componentes Pricipales basado en la Matriz de Covarianza de las variables explciativas X del modelo. De esta forma, seleccionando las variables que expliquen el 90% de la variabilidad total del Data Set.\n",
    "\n",
    "No se hará normalización de las variables puesto que ya anteriormente se ha aplicado una transformación a la Data original que garantiza que todas las variables se manejen en una escala similar.\n",
    "\n",
    "Primero, primero intentaremos mejorar la robustez de la matriz de covarianza aplicando el Shrinkage de Ledoit-Wolf. Si obtenemos una matriz con menor número de condición que la original, usaremos la Matriz con el Shrinkage de Ledoit-Wolf para ejecutar el PCA."
   ]
  },
  {
   "cell_type": "code",
   "execution_count": 5,
   "id": "d7faca12",
   "metadata": {},
   "outputs": [
    {
     "data": {
      "text/plain": [
       "{'Cov_Normal': 3.6809524255594916e+21, 'Cov_Ledoit-Wolf': 5124.6130473477815}"
      ]
     },
     "execution_count": 5,
     "metadata": {},
     "output_type": "execute_result"
    }
   ],
   "source": [
    "CovNormal=np.cov(XFinal)\n",
    "LW=LedoitWolf().fit(XFinal)\n",
    "CovS=LW.covariance_ \n",
    "Ncondi={'Cov_Normal':np.linalg.cond(CovNormal),'Cov_Ledoit-Wolf':np.linalg.cond(CovS)}\n",
    "Ncondi"
   ]
  },
  {
   "cell_type": "code",
   "execution_count": 6,
   "id": "210b3fc4",
   "metadata": {},
   "outputs": [
    {
     "data": {
      "text/plain": [
       "'Cov_Ledoit-Wolf'"
      ]
     },
     "execution_count": 6,
     "metadata": {},
     "output_type": "execute_result"
    }
   ],
   "source": [
    "min(Ncondi)"
   ]
  },
  {
   "cell_type": "markdown",
   "id": "efd8a3c7",
   "metadata": {},
   "source": [
    "Obtenemos un número de condición mucho más bajo para la Matriz de Covarianza con Shrinkage de Ledoit_Wolf, así que usaremos dicha matriz para ejecutar el PCA."
   ]
  },
  {
   "cell_type": "code",
   "execution_count": 7,
   "id": "45306b11",
   "metadata": {},
   "outputs": [
    {
     "name": "stdout",
     "output_type": "stream",
     "text": [
      "6\n"
     ]
    }
   ],
   "source": [
    "posicion=list()\n",
    "eigenvalue, featurevector = np.linalg.eig(CovS)\n",
    "for i in range(len(CovS)):\n",
    "    posicion.append(int(np.where(np.abs(featurevector[i]) == np.max(np.abs(featurevector[i])))[0]))\n",
    "    if sum(eigenvalue[0:i])/sum(eigenvalue) > 0.95:\n",
    "        break\n",
    "X_Model=XFinal.iloc[:,posicion]\n",
    "print(i+1)"
   ]
  },
  {
   "cell_type": "code",
   "execution_count": 8,
   "id": "6ebb3309",
   "metadata": {},
   "outputs": [
    {
     "data": {
      "text/plain": [
       "(1497, 6)"
      ]
     },
     "execution_count": 8,
     "metadata": {},
     "output_type": "execute_result"
    }
   ],
   "source": [
    "X_Model.shape"
   ]
  },
  {
   "cell_type": "code",
   "execution_count": 9,
   "id": "645f9cfd",
   "metadata": {},
   "outputs": [
    {
     "data": {
      "text/plain": [
       "array([7.51869624e-02, 5.06959062e-03, 4.09934675e-03, 3.27244547e-03,\n",
       "       1.78911948e-03, 9.16981465e-04, 5.65201742e-04, 3.64728758e-04,\n",
       "       3.40149727e-04, 2.56152330e-04, 1.77764306e-04, 1.53469490e-04,\n",
       "       1.38559061e-04, 1.30015320e-04, 1.19607171e-04, 8.32713779e-05,\n",
       "       7.93270059e-05, 6.37538119e-05, 4.86011218e-05, 3.98271390e-05,\n",
       "       3.75406732e-05, 3.33148870e-05, 3.21465445e-05, 2.67464248e-05,\n",
       "       2.42295360e-05, 1.46717346e-05, 1.56111940e-05, 1.95270077e-05,\n",
       "       1.89243419e-05, 1.75353879e-05, 1.81776405e-05])"
      ]
     },
     "execution_count": 9,
     "metadata": {},
     "output_type": "execute_result"
    }
   ],
   "source": [
    "eigenvalue"
   ]
  },
  {
   "cell_type": "code",
   "execution_count": 10,
   "id": "c9f76737",
   "metadata": {},
   "outputs": [
    {
     "data": {
      "text/plain": [
       "array([8.07131497e-01, 5.44220186e-02, 4.40064577e-02, 3.51296784e-02,\n",
       "       1.92061846e-02, 9.84378939e-03, 6.06743660e-03, 3.91536058e-03,\n",
       "       3.65150486e-03, 2.74979340e-03, 1.90829853e-03, 1.64749387e-03,\n",
       "       1.48743051e-03, 1.39571351e-03, 1.28398212e-03, 8.93917638e-04,\n",
       "       8.51574834e-04, 6.84396710e-04, 5.21732691e-04, 4.27544049e-04,\n",
       "       4.02998855e-04, 3.57635071e-04, 3.45092923e-04, 2.87122677e-04,\n",
       "       2.60103894e-04, 1.57500964e-04, 1.67586054e-04, 2.09622287e-04,\n",
       "       2.03152674e-04, 1.88242262e-04, 1.95136839e-04])"
      ]
     },
     "execution_count": 10,
     "metadata": {},
     "output_type": "execute_result"
    }
   ],
   "source": [
    "ValorExplicado=eigenvalue/sum(eigenvalue)\n",
    "ValorExplicado"
   ]
  },
  {
   "cell_type": "code",
   "execution_count": 11,
   "id": "235bbf03",
   "metadata": {},
   "outputs": [
    {
     "data": {
      "image/png": "[encoded data removed]",
      "text/plain": [
       "<Figure size 1332x756 with 1 Axes>"
      ]
     },
     "metadata": {
      "needs_background": "light"
     },
     "output_type": "display_data"
    }
   ],
   "source": [
    "fig = plt.gcf()\n",
    "fig.set_size_inches(18.5, 10.5)\n",
    "plt.plot(range(len(ValorExplicado)),ValorExplicado,'o')\n",
    "plt.rcParams.update({'font.size': 22})\n",
    "plt.xlabel(\"Variable de Mayor a menor Valor Propio\")\n",
    "plt.ylabel(\"Tasa de Explicación de la variabilidad Total\")\n",
    "plt.rc('xtick', labelsize=15) \n",
    "plt.rc('ytick', labelsize=15)"
   ]
  },
  {
   "cell_type": "code",
   "execution_count": 12,
   "id": "4a046e36",
   "metadata": {},
   "outputs": [
    {
     "data": {
      "text/plain": [
       "array([0.8071315 , 0.05442202, 0.04400646, 0.03512968, 0.01920618,\n",
       "       0.00984379])"
      ]
     },
     "execution_count": 12,
     "metadata": {},
     "output_type": "execute_result"
    }
   ],
   "source": [
    "ValorExplicado[0:i+1]"
   ]
  },
  {
   "cell_type": "code",
   "execution_count": 13,
   "id": "3e3dab0e",
   "metadata": {},
   "outputs": [
    {
     "data": {
      "text/plain": [
       "0.96"
      ]
     },
     "execution_count": 13,
     "metadata": {},
     "output_type": "execute_result"
    }
   ],
   "source": [
    "sum(ValorExplicado[0:i]).round(2)"
   ]
  },
  {
   "cell_type": "markdown",
   "id": "512146a9",
   "metadata": {},
   "source": [
    "Se seleccionan como variales finales para el modelo las 5 con mayor valor propio que, en connjunto explican el 94% de la variabilidad total del conjunto de variables X."
   ]
  },
  {
   "cell_type": "code",
   "execution_count": 14,
   "id": "abb7aa22",
   "metadata": {},
   "outputs": [
    {
     "data": {
      "text/plain": [
       "Index(['Tasa de Certificado de Depósito a Término (CDT) a 180 días diaria_y',\n",
       "       'Cuasidineros - CDT semanal_y', 'Tasa Representativa del Mercado (TRM)',\n",
       "       'Tasa de Certificado de Depósito a Término (CDT) a 90 días diaria_y',\n",
       "       'Indicador Bancario de Referencia (IBR) a 3 meses efectiva',\n",
       "       'M3 semanal_y'],\n",
       "      dtype='object')"
      ]
     },
     "execution_count": 14,
     "metadata": {},
     "output_type": "execute_result"
    }
   ],
   "source": [
    "X_Model.columns"
   ]
  },
  {
   "cell_type": "code",
   "execution_count": 15,
   "id": "c58bf681",
   "metadata": {},
   "outputs": [
    {
     "data": {
      "text/plain": [
       "Text(0.5, 0, 'Explicación')"
      ]
     },
     "execution_count": 15,
     "metadata": {},
     "output_type": "execute_result"
    },
    {
     "data": {
      "image/png": "[encoded data removed]",
      "text/plain": [
       "<Figure size 648x432 with 1 Axes>"
      ]
     },
     "metadata": {
      "needs_background": "light"
     },
     "output_type": "display_data"
    }
   ],
   "source": [
    "fig = plt.gcf()\n",
    "fig.set_size_inches(9, 6)\n",
    "x_label = np.arange(len(X_Model.columns))\n",
    "label = np.array(X_Model.columns)\n",
    "label\n",
    "plt.barh(label,ValorExplicado[0:i+1])\n",
    "plt.xticks(rotation=90)\n",
    "plt.xlabel(\"Explicación\")"
   ]
  },
  {
   "cell_type": "code",
   "execution_count": 16,
   "id": "01af79c5",
   "metadata": {},
   "outputs": [
    {
     "data": {
      "text/plain": [
       "count    1497.000000\n",
       "mean       -0.000093\n",
       "std         0.011364\n",
       "min        -0.122825\n",
       "25%        -0.000421\n",
       "50%         0.000000\n",
       "75%         0.000487\n",
       "max         0.243642\n",
       "Name: Indicador Bancario de Referencia (IBR) overnight nominal, dtype: float64"
      ]
     },
     "execution_count": 16,
     "metadata": {},
     "output_type": "execute_result"
    }
   ],
   "source": [
    "YFinal.describe()"
   ]
  },
  {
   "cell_type": "markdown",
   "id": "1f64ce40",
   "metadata": {},
   "source": [
    "La equivalencia de Clasificaciones está dada por:\n",
    "\n",
    "1: Baja\n",
    "2: Estable\n",
    "3: Alza"
   ]
  },
  {
   "cell_type": "code",
   "execution_count": 17,
   "id": "0800ddd8",
   "metadata": {},
   "outputs": [],
   "source": [
    "Lim_Inf = -0.00022\n",
    "Lim_Sup = 0.00025"
   ]
  },
  {
   "cell_type": "code",
   "execution_count": 18,
   "id": "ae8dae50",
   "metadata": {},
   "outputs": [],
   "source": [
    "Y_Clase = YFinal.copy()\n",
    "Y_Clase2 = YFinal.copy()\n",
    "for i in range(0,len(YFinal)):\n",
    "    if YFinal[i]<Lim_Inf:\n",
    "        Y_Clase.iloc[i] = 1\n",
    "        Y_Clase2.iloc[i] = 'Baja'\n",
    "    elif YFinal[i]>Lim_Sup:\n",
    "        Y_Clase.iloc[i] = 3\n",
    "        Y_Clase2.iloc[i] = 'Alza'\n",
    "    else:\n",
    "        Y_Clase.iloc[i] = 2\n",
    "        Y_Clase2.iloc[i] = 'Estable'"
   ]
  },
  {
   "cell_type": "code",
   "execution_count": 19,
   "id": "69a2afed",
   "metadata": {},
   "outputs": [
    {
     "data": {
      "text/plain": [
       "(array([506.,   0.,   0.,   0.,   0., 494.,   0.,   0.,   0., 497.]),\n",
       " array([0. , 0.2, 0.4, 0.6, 0.8, 1. , 1.2, 1.4, 1.6, 1.8, 2. ]),\n",
       " <BarContainer object of 10 artists>)"
      ]
     },
     "execution_count": 19,
     "metadata": {},
     "output_type": "execute_result"
    },
    {
     "data": {
      "image/png": "[encoded data removed]",
      "text/plain": [
       "<Figure size 432x288 with 1 Axes>"
      ]
     },
     "metadata": {
      "needs_background": "light"
     },
     "output_type": "display_data"
    }
   ],
   "source": [
    "plt.hist(Y_Clase2, align='mid')"
   ]
  },
  {
   "cell_type": "markdown",
   "id": "2f203a04",
   "metadata": {},
   "source": [
    "Hacemos la primera prueba con regresión Lineal Logística Multinomial, usando la función LogisticRegression de ScikitLearn"
   ]
  },
  {
   "cell_type": "code",
   "execution_count": 20,
   "id": "b535eef9",
   "metadata": {},
   "outputs": [
    {
     "data": {
      "text/html": [
       "<div>\n",
       "<style scoped>\n",
       "    .dataframe tbody tr th:only-of-type {\n",
       "        vertical-align: middle;\n",
       "    }\n",
       "\n",
       "    .dataframe tbody tr th {\n",
       "        vertical-align: top;\n",
       "    }\n",
       "\n",
       "    .dataframe thead th {\n",
       "        text-align: right;\n",
       "    }\n",
       "</style>\n",
       "<table border=\"1\" class=\"dataframe\">\n",
       "  <thead>\n",
       "    <tr style=\"text-align: right;\">\n",
       "      <th></th>\n",
       "      <th>Tasa de Certificado de Depósito a Término (CDT) a 180 días diaria_y</th>\n",
       "      <th>Cuasidineros - CDT semanal_y</th>\n",
       "      <th>Tasa Representativa del Mercado (TRM)</th>\n",
       "      <th>Tasa de Certificado de Depósito a Término (CDT) a 90 días diaria_y</th>\n",
       "      <th>Indicador Bancario de Referencia (IBR) a 3 meses efectiva</th>\n",
       "      <th>M3 semanal_y</th>\n",
       "    </tr>\n",
       "    <tr>\n",
       "      <th>Fecha</th>\n",
       "      <th></th>\n",
       "      <th></th>\n",
       "      <th></th>\n",
       "      <th></th>\n",
       "      <th></th>\n",
       "      <th></th>\n",
       "    </tr>\n",
       "  </thead>\n",
       "  <tbody>\n",
       "    <tr>\n",
       "      <th>2015-01-07</th>\n",
       "      <td>-0.016651</td>\n",
       "      <td>0.000000</td>\n",
       "      <td>0.016284</td>\n",
       "      <td>-0.036446</td>\n",
       "      <td>0.000445</td>\n",
       "      <td>0.000000</td>\n",
       "    </tr>\n",
       "    <tr>\n",
       "      <th>2015-01-08</th>\n",
       "      <td>-0.046038</td>\n",
       "      <td>0.000000</td>\n",
       "      <td>-0.007259</td>\n",
       "      <td>0.024632</td>\n",
       "      <td>-0.000889</td>\n",
       "      <td>0.000000</td>\n",
       "    </tr>\n",
       "    <tr>\n",
       "      <th>2015-01-09</th>\n",
       "      <td>0.072795</td>\n",
       "      <td>0.003456</td>\n",
       "      <td>-0.012028</td>\n",
       "      <td>-0.003808</td>\n",
       "      <td>0.000890</td>\n",
       "      <td>0.000455</td>\n",
       "    </tr>\n",
       "    <tr>\n",
       "      <th>2015-01-13</th>\n",
       "      <td>-0.068031</td>\n",
       "      <td>0.000000</td>\n",
       "      <td>0.000699</td>\n",
       "      <td>0.037577</td>\n",
       "      <td>-0.000222</td>\n",
       "      <td>0.000000</td>\n",
       "    </tr>\n",
       "    <tr>\n",
       "      <th>2015-01-14</th>\n",
       "      <td>0.071871</td>\n",
       "      <td>0.000000</td>\n",
       "      <td>0.014676</td>\n",
       "      <td>-0.027145</td>\n",
       "      <td>0.000222</td>\n",
       "      <td>0.000000</td>\n",
       "    </tr>\n",
       "    <tr>\n",
       "      <th>...</th>\n",
       "      <td>...</td>\n",
       "      <td>...</td>\n",
       "      <td>...</td>\n",
       "      <td>...</td>\n",
       "      <td>...</td>\n",
       "      <td>...</td>\n",
       "    </tr>\n",
       "    <tr>\n",
       "      <th>2021-10-28</th>\n",
       "      <td>-0.066609</td>\n",
       "      <td>0.000000</td>\n",
       "      <td>-0.003510</td>\n",
       "      <td>0.053241</td>\n",
       "      <td>0.004994</td>\n",
       "      <td>0.000000</td>\n",
       "    </tr>\n",
       "    <tr>\n",
       "      <th>2021-10-29</th>\n",
       "      <td>0.071349</td>\n",
       "      <td>0.000000</td>\n",
       "      <td>0.001300</td>\n",
       "      <td>-0.035717</td>\n",
       "      <td>0.026758</td>\n",
       "      <td>0.000000</td>\n",
       "    </tr>\n",
       "    <tr>\n",
       "      <th>2021-11-02</th>\n",
       "      <td>-0.083482</td>\n",
       "      <td>0.000000</td>\n",
       "      <td>0.004870</td>\n",
       "      <td>-0.044809</td>\n",
       "      <td>0.068131</td>\n",
       "      <td>0.000000</td>\n",
       "    </tr>\n",
       "    <tr>\n",
       "      <th>2021-11-04</th>\n",
       "      <td>-0.006446</td>\n",
       "      <td>0.000000</td>\n",
       "      <td>0.015654</td>\n",
       "      <td>-0.109212</td>\n",
       "      <td>0.009078</td>\n",
       "      <td>0.000000</td>\n",
       "    </tr>\n",
       "    <tr>\n",
       "      <th>2021-11-05</th>\n",
       "      <td>-0.014800</td>\n",
       "      <td>0.000000</td>\n",
       "      <td>0.002491</td>\n",
       "      <td>0.081623</td>\n",
       "      <td>0.019723</td>\n",
       "      <td>0.000000</td>\n",
       "    </tr>\n",
       "  </tbody>\n",
       "</table>\n",
       "<p>1497 rows × 6 columns</p>\n",
       "</div>"
      ],
      "text/plain": [
       "            Tasa de Certificado de Depósito a Término (CDT) a 180 días diaria_y  \\\n",
       "Fecha                                                                             \n",
       "2015-01-07                                          -0.016651                     \n",
       "2015-01-08                                          -0.046038                     \n",
       "2015-01-09                                           0.072795                     \n",
       "2015-01-13                                          -0.068031                     \n",
       "2015-01-14                                           0.071871                     \n",
       "...                                                       ...                     \n",
       "2021-10-28                                          -0.066609                     \n",
       "2021-10-29                                           0.071349                     \n",
       "2021-11-02                                          -0.083482                     \n",
       "2021-11-04                                          -0.006446                     \n",
       "2021-11-05                                          -0.014800                     \n",
       "\n",
       "            Cuasidineros - CDT semanal_y  \\\n",
       "Fecha                                      \n",
       "2015-01-07                      0.000000   \n",
       "2015-01-08                      0.000000   \n",
       "2015-01-09                      0.003456   \n",
       "2015-01-13                      0.000000   \n",
       "2015-01-14                      0.000000   \n",
       "...                                  ...   \n",
       "2021-10-28                      0.000000   \n",
       "2021-10-29                      0.000000   \n",
       "2021-11-02                      0.000000   \n",
       "2021-11-04                      0.000000   \n",
       "2021-11-05                      0.000000   \n",
       "\n",
       "            Tasa Representativa del Mercado (TRM)  \\\n",
       "Fecha                                               \n",
       "2015-01-07                               0.016284   \n",
       "2015-01-08                              -0.007259   \n",
       "2015-01-09                              -0.012028   \n",
       "2015-01-13                               0.000699   \n",
       "2015-01-14                               0.014676   \n",
       "...                                           ...   \n",
       "2021-10-28                              -0.003510   \n",
       "2021-10-29                               0.001300   \n",
       "2021-11-02                               0.004870   \n",
       "2021-11-04                               0.015654   \n",
       "2021-11-05                               0.002491   \n",
       "\n",
       "            Tasa de Certificado de Depósito a Término (CDT) a 90 días diaria_y  \\\n",
       "Fecha                                                                            \n",
       "2015-01-07                                          -0.036446                    \n",
       "2015-01-08                                           0.024632                    \n",
       "2015-01-09                                          -0.003808                    \n",
       "2015-01-13                                           0.037577                    \n",
       "2015-01-14                                          -0.027145                    \n",
       "...                                                       ...                    \n",
       "2021-10-28                                           0.053241                    \n",
       "2021-10-29                                          -0.035717                    \n",
       "2021-11-02                                          -0.044809                    \n",
       "2021-11-04                                          -0.109212                    \n",
       "2021-11-05                                           0.081623                    \n",
       "\n",
       "            Indicador Bancario de Referencia (IBR) a 3 meses efectiva  \\\n",
       "Fecha                                                                   \n",
       "2015-01-07                                           0.000445           \n",
       "2015-01-08                                          -0.000889           \n",
       "2015-01-09                                           0.000890           \n",
       "2015-01-13                                          -0.000222           \n",
       "2015-01-14                                           0.000222           \n",
       "...                                                       ...           \n",
       "2021-10-28                                           0.004994           \n",
       "2021-10-29                                           0.026758           \n",
       "2021-11-02                                           0.068131           \n",
       "2021-11-04                                           0.009078           \n",
       "2021-11-05                                           0.019723           \n",
       "\n",
       "            M3 semanal_y  \n",
       "Fecha                     \n",
       "2015-01-07      0.000000  \n",
       "2015-01-08      0.000000  \n",
       "2015-01-09      0.000455  \n",
       "2015-01-13      0.000000  \n",
       "2015-01-14      0.000000  \n",
       "...                  ...  \n",
       "2021-10-28      0.000000  \n",
       "2021-10-29      0.000000  \n",
       "2021-11-02      0.000000  \n",
       "2021-11-04      0.000000  \n",
       "2021-11-05      0.000000  \n",
       "\n",
       "[1497 rows x 6 columns]"
      ]
     },
     "execution_count": 20,
     "metadata": {},
     "output_type": "execute_result"
    }
   ],
   "source": [
    "X_Model"
   ]
  },
  {
   "cell_type": "code",
   "execution_count": 21,
   "id": "89625654",
   "metadata": {},
   "outputs": [],
   "source": [
    "from sklearn.linear_model import LogisticRegression\n",
    "from sklearn.model_selection import train_test_split\n",
    "from sklearn.preprocessing import StandardScaler"
   ]
  },
  {
   "cell_type": "code",
   "execution_count": 22,
   "id": "8f39e4e8",
   "metadata": {},
   "outputs": [],
   "source": [
    "model = LogisticRegression(penalty='elasticnet',multi_class='auto',solver='saga',max_iter=1000,\n",
    "                           random_state=0, warm_start=True,fit_intercept=True, l1_ratio=0.5)"
   ]
  },
  {
   "cell_type": "code",
   "execution_count": 25,
   "id": "d6f79ffb",
   "metadata": {},
   "outputs": [
    {
     "data": {
      "text/plain": [
       "array([0.33, 0.34, 0.32, 0.33, 0.32, 0.31, 0.32, 0.28, 0.33])"
      ]
     },
     "execution_count": 25,
     "metadata": {},
     "output_type": "execute_result"
    }
   ],
   "source": [
    "precision_test=[]\n",
    "precision_train=[]\n",
    "X_estandarizada=X_Model\n",
    "for i in np.arange(0,0.9,0.1):\n",
    "    X_Train, X_Test, Y_Train, Y_Test = train_test_split(X_estandarizada, Y_Clase, train_size=0.1+i)\n",
    "\n",
    "    model.fit(X_Train, Y_Train)\n",
    "    Y_Ok_T = sum(Y_Test==model.predict(X_Test))/len(Y_Test)\n",
    "    Y_Ok_Tr = sum(Y_Train==model.predict(X_Train))/len(Y_Train)\n",
    "\n",
    "    if i==0:\n",
    "        precision_test.append(Y_Ok_T)\n",
    "        precision_train.append(Y_Ok_Tr)\n",
    "\n",
    "    if np.max(precision_test)<=Y_Ok_T:\n",
    "        X_Train_Final=X_Train\n",
    "        X_Test_Final=X_Test\n",
    "        Y_Train_Final=Y_Train\n",
    "        Y_Test_Final=Y_Test\n",
    "\n",
    "    if i!=0:\n",
    "        precision_test.append(Y_Ok_T) \n",
    "        precision_train.append(Y_Ok_Tr)\n",
    "np.array(precision_test).round(2)"
   ]
  },
  {
   "cell_type": "code",
   "execution_count": 26,
   "id": "bba42daf",
   "metadata": {},
   "outputs": [
    {
     "data": {
      "text/plain": [
       "array([0.38, 0.35, 0.35, 0.35, 0.36, 0.34, 0.34, 0.35, 0.36])"
      ]
     },
     "execution_count": 26,
     "metadata": {},
     "output_type": "execute_result"
    }
   ],
   "source": [
    "np.array(precision_train).round(2)"
   ]
  },
  {
   "cell_type": "code",
   "execution_count": null,
   "id": "bf49e353",
   "metadata": {},
   "outputs": [],
   "source": [
    "plt.plot(precision_test,'-o')"
   ]
  },
  {
   "cell_type": "code",
   "execution_count": null,
   "id": "37486889",
   "metadata": {},
   "outputs": [],
   "source": [
    "model.fit(X_Model, Y_Clase)\n",
    "coeficientes = model.coef_.round(2)\n",
    "intercepto = model.intercept_.round(2)"
   ]
  },
  {
   "cell_type": "code",
   "execution_count": null,
   "id": "fa9a147c",
   "metadata": {},
   "outputs": [],
   "source": [
    "intercepto"
   ]
  },
  {
   "cell_type": "code",
   "execution_count": null,
   "id": "362893fd",
   "metadata": {},
   "outputs": [],
   "source": [
    "coeficientes"
   ]
  },
  {
   "cell_type": "code",
   "execution_count": null,
   "id": "816ce8bf",
   "metadata": {},
   "outputs": [],
   "source": [
    "Y_Error_T = sum(Y_Test_Final==model.predict(X_Test_Final))/len(Y_Test_Final)\n",
    "Y_Error_Tr = sum(Y_Train_Final==model.predict(X_Train_Final))/len(Y_Train_Final)\n",
    "Y_Error_Tr,Y_Error_T"
   ]
  },
  {
   "cell_type": "code",
   "execution_count": null,
   "id": "f455f12b",
   "metadata": {},
   "outputs": [],
   "source": [
    "from sklearn.metrics import confusion_matrix\n",
    "confusion_matrix(Y_Test_Final,model.predict(X_Test_Final))"
   ]
  },
  {
   "cell_type": "code",
   "execution_count": null,
   "id": "1a146dcf",
   "metadata": {},
   "outputs": [],
   "source": [
    "model.predict(X_Test_Final)"
   ]
  },
  {
   "cell_type": "code",
   "execution_count": null,
   "id": "a6459448",
   "metadata": {},
   "outputs": [],
   "source": [
    "#Y_Train_Final.to_csv('s3://proyecto-integrador/results/Y_Entrenamiento.csv')\n",
    "#X_Train_Final.to_csv('s3://proyecto-integrador/results/X_Entrenamiento.csv')\n",
    "#pd.DataFrame([Y_Error_T]).to_csv('s3://proyecto-integrador/results/P_Precision.csv')"
   ]
  },
  {
   "cell_type": "code",
   "execution_count": null,
   "id": "26af5e88",
   "metadata": {},
   "outputs": [],
   "source": []
  }
 ],
 "metadata": {
  "kernelspec": {
   "display_name": "Python 3",
   "language": "python",
   "name": "python3"
  },
  "language_info": {
   "codemirror_mode": {
    "name": "ipython",
    "version": 3
   },
   "file_extension": ".py",
   "mimetype": "text/x-python",
   "name": "python",
   "nbconvert_exporter": "python",
   "pygments_lexer": "ipython3",
   "version": "3.7.4"
  }
 },
 "nbformat": 4,
 "nbformat_minor": 5
}
